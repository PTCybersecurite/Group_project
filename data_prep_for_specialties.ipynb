{
  "nbformat": 4,
  "nbformat_minor": 0,
  "metadata": {
    "colab": {
      "name": "data_prep_for_specialties.ipynb",
      "provenance": [],
      "collapsed_sections": []
    },
    "kernelspec": {
      "name": "python3",
      "display_name": "Python 3"
    }
  },
  "cells": [
    {
      "cell_type": "code",
      "metadata": {
        "id": "CPhHPXBL4wEg"
      },
      "source": [
        "DATA_FOLDER = '/content/drive/MyDrive/PSTALN/data/'"
      ],
      "execution_count": null,
      "outputs": []
    },
    {
      "cell_type": "code",
      "metadata": {
        "id": "kPRbT02tiQ6R"
      },
      "source": [
        "import pandas as pd\r\n",
        "\r\n",
        "df_bibliovid = pd.read_json(DATA_FOLDER+'bibliovid.json')"
      ],
      "execution_count": null,
      "outputs": []
    },
    {
      "cell_type": "code",
      "metadata": {
        "id": "MFsv3gu_J7TC",
        "colab": {
          "base_uri": "https://localhost:8080/",
          "height": 148
        },
        "outputId": "d6b7c6bf-7e35-45f3-f83d-b6749eb347a2"
      },
      "source": [
        "first_file_data = df_bibliovid.iloc[0]['abstract']\r\n",
        "first_file_data"
      ],
      "execution_count": null,
      "outputs": [
        {
          "output_type": "execute_result",
          "data": {
            "application/vnd.google.colaboratory.intrinsic+json": {
              "type": "string"
            },
            "text/plain": [
              "'Obesity is a risk factor for pneumonia and acute respiratory distress syndrome.\\nTo determine whether obesity is associated with intubation or death, inflammation, cardiac injury, or fibrinolysis in coronavirus disease 2019 (COVID-19).\\nRetrospective cohort study.\\nA quaternary academic medical center and community hospital in New York City.\\n2466 adults hospitalized with laboratory-confirmed severe acute respiratory syndrome coronavirus 2 infection over a 45-day period with at least 47 days of in-hospital observation.\\nBody mass index (BMI), admission biomarkers of inflammation (C-reactive protein [CRP] level and erythrocyte sedimentation rate [ESR]), cardiac injury (troponin level), and fibrinolysis (D-dimer level). The primary end point was a composite of intubation or death in time-to-event analysis.\\nOver a median hospital length of stay of 7 days (interquartile range, 3 to 14 days), 533 patients (22%) were intubated, 627 (25%) died, and 59 (2%) remained hospitalized. Compared with overweight patients, patients with obesity had higher risk for intubation or death, with the highest risk among those with class 3 obesity (hazard ratio, 1.6 [95% CI, 1.1 to 2.1]). This association was primarily observed among patients younger than 65 years and not in older patients (\\nBody mass index was missing for 28% of patients. The primary analyses were conducted with multiple imputation for missing BMI. Upper bounding factor analysis suggested that the results are robust to possible selection bias.\\nObesity is associated with increased risk for intubation or death from COVID-19 in adults younger than 65 years, but not in adults aged 65 years or older.\\nNational Institutes of Health.'"
            ]
          },
          "metadata": {
            "tags": []
          },
          "execution_count": 31
        }
      ]
    },
    {
      "cell_type": "code",
      "metadata": {
        "colab": {
          "base_uri": "https://localhost:8080/"
        },
        "id": "ULcZDTIIUuxt",
        "outputId": "36c466e5-2132-416d-b511-c9c2cf5f4bcd"
      },
      "source": [
        "df_bibliovid.iloc[0]['topics']"
      ],
      "execution_count": null,
      "outputs": [
        {
          "output_type": "execute_result",
          "data": {
            "text/plain": [
              "['Pronostique', 'Anesthésie-Réanimation', 'Infectiologie']"
            ]
          },
          "metadata": {
            "tags": []
          },
          "execution_count": 32
        }
      ]
    },
    {
      "cell_type": "markdown",
      "metadata": {
        "id": "E5RNaaoskSPw"
      },
      "source": [
        "Erasing rows having no abstract"
      ]
    },
    {
      "cell_type": "code",
      "metadata": {
        "id": "aXt9vAjOfyaI"
      },
      "source": [
        "df_bibliovid = df_bibliovid.dropna(subset=['abstract'])\r\n",
        "df_bibliovid = df_bibliovid.drop(df_bibliovid[ df_bibliovid.abstract==''].index)"
      ],
      "execution_count": null,
      "outputs": []
    },
    {
      "cell_type": "code",
      "metadata": {
        "colab": {
          "base_uri": "https://localhost:8080/",
          "height": 625
        },
        "id": "qX83YtlMcX9S",
        "outputId": "b86f2623-bd9a-4da2-f9f4-5ea6efaecf16"
      },
      "source": [
        "df_bibliovid.head()"
      ],
      "execution_count": null,
      "outputs": [
        {
          "output_type": "execute_result",
          "data": {
            "text/html": [
              "<div>\n",
              "<style scoped>\n",
              "    .dataframe tbody tr th:only-of-type {\n",
              "        vertical-align: middle;\n",
              "    }\n",
              "\n",
              "    .dataframe tbody tr th {\n",
              "        vertical-align: top;\n",
              "    }\n",
              "\n",
              "    .dataframe thead th {\n",
              "        text-align: right;\n",
              "    }\n",
              "</style>\n",
              "<table border=\"1\" class=\"dataframe\">\n",
              "  <thead>\n",
              "    <tr style=\"text-align: right;\">\n",
              "      <th></th>\n",
              "      <th>id</th>\n",
              "      <th>slug</th>\n",
              "      <th>title</th>\n",
              "      <th>has_other_authors</th>\n",
              "      <th>impact_factor</th>\n",
              "      <th>goals_plain</th>\n",
              "      <th>verbose_date</th>\n",
              "      <th>authors</th>\n",
              "      <th>document_link</th>\n",
              "      <th>specialties</th>\n",
              "      <th>category</th>\n",
              "      <th>journal</th>\n",
              "      <th>link</th>\n",
              "      <th>results</th>\n",
              "      <th>synthesis</th>\n",
              "      <th>strength_of_evidence_details</th>\n",
              "      <th>goals</th>\n",
              "      <th>methods</th>\n",
              "      <th>pubmed_id</th>\n",
              "      <th>doi</th>\n",
              "      <th>abstract</th>\n",
              "      <th>topics</th>\n",
              "      <th>author_list</th>\n",
              "      <th>publication_date</th>\n",
              "    </tr>\n",
              "  </thead>\n",
              "  <tbody>\n",
              "    <tr>\n",
              "      <th>0</th>\n",
              "      <td>769</td>\n",
              "      <td>body-mass-index-and-risk-for-intubation-or-dea...</td>\n",
              "      <td>Body Mass Index and Risk for Intubation or Dea...</td>\n",
              "      <td>True</td>\n",
              "      <td>{'id': 3, 'name': 'Intermédiaire', 'posts_coun...</td>\n",
              "      <td>- Déterminer si l'obésité est associée à l'int...</td>\n",
              "      <td>31.07.2020</td>\n",
              "      <td>Anderson MR</td>\n",
              "      <td>https://www.acpjournals.org/doi/10.7326/M20-3214</td>\n",
              "      <td>[{'id': 4, 'name': 'Anesthésie-Réanimation'}, ...</td>\n",
              "      <td>{'id': 6, 'name': 'Pronostique', 'icon': 'icon...</td>\n",
              "      <td>{'id': 41, 'name': 'Ann Intern Med'}</td>\n",
              "      <td>https://www.acpjournals.org/doi/10.7326/M20-3214</td>\n",
              "      <td>*Description de l'échantillon: 2112 patients c...</td>\n",
              "      <td>- Environ 2-3% des patients atteints de la COV...</td>\n",
              "      <td>-cohorte pronostique- puissance de l'étude sup...</td>\n",
              "      <td>- Déterminer si l'obésité est associée à l'int...</td>\n",
              "      <td>Cohorte rétrospective portant sur 2466 patient...</td>\n",
              "      <td>32726151</td>\n",
              "      <td>10.7326/M20-3214</td>\n",
              "      <td>Obesity is a risk factor for pneumonia and acu...</td>\n",
              "      <td>[Pronostique, Anesthésie-Réanimation, Infectio...</td>\n",
              "      <td>[{'id': 714, 'name': 'Anderson MR'}]</td>\n",
              "      <td>2020-07-31</td>\n",
              "    </tr>\n",
              "    <tr>\n",
              "      <th>5</th>\n",
              "      <td>742</td>\n",
              "      <td>an-mrna-vaccine-against-sars-cov-2-preliminary...</td>\n",
              "      <td>An mRNA Vaccine against SARS-CoV-2 - Prelimina...</td>\n",
              "      <td>True</td>\n",
              "      <td>{'id': 3, 'name': 'Intermédiaire', 'posts_coun...</td>\n",
              "      <td>Développement du vaccin accéléré mRNA-1273 Mod...</td>\n",
              "      <td>15.07.2020</td>\n",
              "      <td>Jackson LA</td>\n",
              "      <td>https://www.nejm.org/doi/10.1056/NEJMoa2022483</td>\n",
              "      <td>[{'id': 22, 'name': 'Immunité'}, {'id': 5, 'na...</td>\n",
              "      <td>{'id': 4, 'name': 'Thérapeutique', 'icon': 'ic...</td>\n",
              "      <td>{'id': 22, 'name': 'NEJM'}</td>\n",
              "      <td>https://www.nejm.org/doi/10.1056/NEJMoa2022483</td>\n",
              "      <td>Après la première vaccination, les réponses an...</td>\n",
              "      <td>Le vaccin mRNA-1273 est plutôt bien toléré. De...</td>\n",
              "      <td>Les résultats du rapport ne sont que prélimina...</td>\n",
              "      <td>Développement du vaccin accéléré mRNA-1273 Mod...</td>\n",
              "      <td>Essai de vaccination de Phase 1, ouvert inclua...</td>\n",
              "      <td>32663912</td>\n",
              "      <td>10.1056/NEJMoa2022483</td>\n",
              "      <td>The severe acute respiratory syndrome coronavi...</td>\n",
              "      <td>[Thérapeutique, Immunité, Virologie, Infectiol...</td>\n",
              "      <td>[{'id': 690, 'name': 'Jackson LA'}]</td>\n",
              "      <td>2020-07-15</td>\n",
              "    </tr>\n",
              "    <tr>\n",
              "      <th>6</th>\n",
              "      <td>739</td>\n",
              "      <td>pathophysiology-transmission-diagnosis-and-tre...</td>\n",
              "      <td>Pathophysiology, Transmission, Diagnosis, and ...</td>\n",
              "      <td>True</td>\n",
              "      <td>{'id': 2, 'name': 'Faible', 'posts_count': 505...</td>\n",
              "      <td>Etat des lieux bibliographique des connaissanc...</td>\n",
              "      <td>14.07.2020</td>\n",
              "      <td>Joost Wiersinga W</td>\n",
              "      <td>https://jamanetwork.com/journals/jama/fullarti...</td>\n",
              "      <td>[{'id': 7, 'name': 'Transversale'}, {'id': 12,...</td>\n",
              "      <td>{'id': 2, 'name': 'Autres', 'icon': 'icon-other'}</td>\n",
              "      <td>{'id': 183, 'name': 'JAMA Network Open'}</td>\n",
              "      <td>https://jamanetwork.com/journals/jama/fullarti...</td>\n",
              "      <td>La transmission du SARS-CoV-2 est plus favorab...</td>\n",
              "      <td>Actualisation générale des connaissances (rech...</td>\n",
              "      <td>Revue orientée d'études pré-sélectionnées par ...</td>\n",
              "      <td>Etat des lieux bibliographique des connaissanc...</td>\n",
              "      <td>Bases de données indexées (générale et récente...</td>\n",
              "      <td>32648899</td>\n",
              "      <td>10.1001/jama.2020.12839</td>\n",
              "      <td>The coronavirus disease 2019 (COVID-19) pandem...</td>\n",
              "      <td>[Autres, Transversale, Infectiologie]</td>\n",
              "      <td>[{'id': 687, 'name': 'Joost Wiersinga W'}]</td>\n",
              "      <td>2020-07-14</td>\n",
              "    </tr>\n",
              "    <tr>\n",
              "      <th>7</th>\n",
              "      <td>735</td>\n",
              "      <td>introductions-and-early-spread-of-sars-cov-2-i...</td>\n",
              "      <td>Introductions and Early Spread of SARS-CoV-2 i...</td>\n",
              "      <td>True</td>\n",
              "      <td>{'id': 4, 'name': 'Indéterminé', 'posts_count'...</td>\n",
              "      <td>Etudier comment l'épidémie de SARS-Cov-2 a com...</td>\n",
              "      <td>10.07.2020</td>\n",
              "      <td>Gambaro F</td>\n",
              "      <td>https://www.eurosurveillance.org/content/10.28...</td>\n",
              "      <td>[{'id': 7, 'name': 'Transversale'}, {'id': 5, ...</td>\n",
              "      <td>{'id': 5, 'name': 'Epidémiologique', 'icon': '...</td>\n",
              "      <td>{'id': 46, 'name': 'Eurosurveillance'}</td>\n",
              "      <td>https://www.eurosurveillance.org/content/10.28...</td>\n",
              "      <td>Le virus a été introduit plusieurs fois dans l...</td>\n",
              "      <td>Le virus SARS-Cov-2 a été introduit plusieurs ...</td>\n",
              "      <td>Les données de cette étude semblent disponible...</td>\n",
              "      <td>Etudier comment l'épidémie de SARS-Cov-2 a com...</td>\n",
              "      <td>Données. 97 séquences de SARS-Cov-2 recueillie...</td>\n",
              "      <td>32643599\\n32289214\\n32070465\\n32109013\\n321797...</td>\n",
              "      <td>10.2807/1560-7917.ES.2020.25.26.2001200</td>\n",
              "      <td>Following SARS-CoV-2 emergence in China, a spe...</td>\n",
              "      <td>[Epidémiologique, Transversale, Virologie]</td>\n",
              "      <td>[{'id': 628, 'name': 'Gambaro F'}]</td>\n",
              "      <td>2020-07-10</td>\n",
              "    </tr>\n",
              "    <tr>\n",
              "      <th>12</th>\n",
              "      <td>724</td>\n",
              "      <td>how-to-safely-reopen-colleges-and-universities...</td>\n",
              "      <td>How to Safely Reopen Colleges and Universities...</td>\n",
              "      <td>True</td>\n",
              "      <td>{'id': 2, 'name': 'Faible', 'posts_count': 505...</td>\n",
              "      <td>Décrire l'expérience des universités de Taïwan...</td>\n",
              "      <td>03.07.2020</td>\n",
              "      <td>Cheng SY</td>\n",
              "      <td>https://www.acpjournals.org/doi/10.7326/M20-2927</td>\n",
              "      <td>[{'id': 21, 'name': 'Confinement/Déconfinement...</td>\n",
              "      <td>{'id': 5, 'name': 'Epidémiologique', 'icon': '...</td>\n",
              "      <td>{'id': 41, 'name': 'Ann Intern Med'}</td>\n",
              "      <td>https://www.acpjournals.org/doi/10.7326/M20-2927</td>\n",
              "      <td>A Taïwan jusqu'au 18 juin 2020 seuls 7 cas con...</td>\n",
              "      <td>Les universités de Taïwan ont adopté des mesur...</td>\n",
              "      <td>- retour d'expérience d'une seule université T...</td>\n",
              "      <td>Décrire l'expérience des universités de Taïwan...</td>\n",
              "      <td>Retour d'expérience de Taïwan sur la gestion d...</td>\n",
              "      <td>32614638</td>\n",
              "      <td>10.7326/M20-2927</td>\n",
              "      <td>Reopening colleges and universities during the...</td>\n",
              "      <td>[Epidémiologique, Confinement/Déconfinement, I...</td>\n",
              "      <td>[{'id': 675, 'name': 'Cheng SY'}]</td>\n",
              "      <td>2020-07-03</td>\n",
              "    </tr>\n",
              "  </tbody>\n",
              "</table>\n",
              "</div>"
            ],
            "text/plain": [
              "     id  ... publication_date\n",
              "0   769  ...       2020-07-31\n",
              "5   742  ...       2020-07-15\n",
              "6   739  ...       2020-07-14\n",
              "7   735  ...       2020-07-10\n",
              "12  724  ...       2020-07-03\n",
              "\n",
              "[5 rows x 24 columns]"
            ]
          },
          "metadata": {
            "tags": []
          },
          "execution_count": 34
        }
      ]
    },
    {
      "cell_type": "code",
      "metadata": {
        "id": "XdiF5bmb-IrW"
      },
      "source": [
        "def vectorize(label_list,dico):\r\n",
        "    return [int(elt in label_list) for  elt in dico]"
      ],
      "execution_count": null,
      "outputs": []
    },
    {
      "cell_type": "code",
      "metadata": {
        "colab": {
          "base_uri": "https://localhost:8080/"
        },
        "id": "Wnts6EK48_2H",
        "outputId": "9a34a9ff-c9cd-47b6-c4e5-a35c4ce7716b"
      },
      "source": [
        "spec_dict=dict()\r\n",
        "spec_list=[]\r\n",
        "for elt in df_bibliovid['specialties'].values:\r\n",
        "    spec_list.append(elt[0]['name'])\r\n",
        "spec_set=set(spec_list)\r\n",
        "i=0\r\n",
        "for elt in spec_set:\r\n",
        "  spec_dict[elt]=i\r\n",
        "  i+=1\r\n",
        "print(spec_dict)\r\n",
        "\r\n",
        "df_bibliovid['vect_specs'] = df_bibliovid.topics.apply(lambda x: vectorize(x,spec_dict))\r\n",
        "df_bibliovid['cat_text'] = df_bibliovid['title'] + df_bibliovid['abstract']\r\n",
        "df_bibliovid['len'] = df_bibliovid['cat_text'].apply(lambda x: len(x.split(' ')))\r\n",
        "df_bibliovid = df_bibliovid.reset_index(drop=True)"
      ],
      "execution_count": null,
      "outputs": [
        {
          "output_type": "stream",
          "text": [
            "{'Hépato-gastro-entérologie': 0, 'Immunité': 1, 'Anesthésie-Réanimation': 2, 'Psychiatrie': 3, 'Pédiatrie': 4, 'Hématologie': 5, 'Cardiologie et maladies métaboliques': 6, 'Neurologie': 7, 'Hygiène': 8, 'Néphrologie': 9, 'Confinement/Déconfinement': 10, 'Gynécologie Obstétrique': 11, 'Radiologie': 12, 'Gériatrie': 13, 'Transversale': 14, 'Infectiologie': 15, 'Virologie': 16}\n"
          ],
          "name": "stdout"
        }
      ]
    },
    {
      "cell_type": "markdown",
      "metadata": {
        "id": "t5VVvWxUmTfX"
      },
      "source": [
        "Tokenizing for future uses with BERT"
      ]
    },
    {
      "cell_type": "code",
      "metadata": {
        "colab": {
          "base_uri": "https://localhost:8080/"
        },
        "id": "LuhOVVcxmDO_",
        "outputId": "3135c8ed-ba0d-4a42-e4df-9da40dbe0ad1"
      },
      "source": [
        "!pip install -q transformers\r\n",
        "import transformers\r\n",
        "from transformers import BertTokenizer\r\n",
        "tokenizer = BertTokenizer.from_pretrained('bert-base-uncased')\r\n",
        "\r\n",
        "import nltk\r\n",
        "from nltk.corpus import stopwords\r\n",
        "nltk.download('stopwords')\r\n",
        "nltk.download('punkt')"
      ],
      "execution_count": null,
      "outputs": [
        {
          "output_type": "stream",
          "text": [
            "[nltk_data] Downloading package stopwords to /root/nltk_data...\n",
            "[nltk_data]   Package stopwords is already up-to-date!\n",
            "[nltk_data] Downloading package punkt to /root/nltk_data...\n",
            "[nltk_data]   Package punkt is already up-to-date!\n"
          ],
          "name": "stdout"
        },
        {
          "output_type": "execute_result",
          "data": {
            "text/plain": [
              "True"
            ]
          },
          "metadata": {
            "tags": []
          },
          "execution_count": 37
        }
      ]
    },
    {
      "cell_type": "code",
      "metadata": {
        "colab": {
          "base_uri": "https://localhost:8080/"
        },
        "id": "KFrjsYiLn6pV",
        "outputId": "a012d8bf-7c74-4930-9de6-82d3b77b4723"
      },
      "source": [
        "from tqdm import tqdm\r\n",
        "\r\n",
        "input_ids=[]\r\n",
        "attention_mask=[]\r\n",
        "token_type_ids=[]\r\n",
        "def make_dict(l):\r\n",
        "    d=dict()\r\n",
        "    for elt in l:\r\n",
        "      d[elt]=''\r\n",
        "    return d\r\n",
        "def remove_ponctuation(text,ponctuation):\r\n",
        "    return ''.join([elt for elt in list(text) if elt not in ponctuation])\r\n",
        "def remove_stopword(text):\r\n",
        "    return ' '.join([word for word in nltk.word_tokenize((text.lower())) if word not in make_dict(stopwords.words('english'))])\r\n",
        "\r\n",
        "ponctuation='''!()-[]{};:'\"\\,<>./?@#$%^&*_~'''\r\n",
        "with  tqdm(total=df_bibliovid.shape[0], position=0) as progress:\r\n",
        "          \r\n",
        "  for index, row in df_bibliovid.iterrows(): #tqdm((df_litcovid.iterrows()),total=df_litcovid.shape[0],initial=0):\r\n",
        "    x=tokenizer.encode_plus(\r\n",
        "              remove_stopword(remove_ponctuation(row.cat_text,ponctuation)),\r\n",
        "              add_special_tokens=True,\r\n",
        "              max_length=200,\r\n",
        "              pad_to_max_length=True,\r\n",
        "              padding=False,\r\n",
        "              return_token_type_ids=True\r\n",
        "          )\r\n",
        "    input_ids.append(x['input_ids'])\r\n",
        "    attention_mask.append(x['attention_mask'])\r\n",
        "    token_type_ids.append(x['token_type_ids'])\r\n",
        "    progress.update()"
      ],
      "execution_count": null,
      "outputs": [
        {
          "output_type": "stream",
          "text": [
            "  0%|          | 0/371 [00:00<?, ?it/s]Truncation was not explicitly activated but `max_length` is provided a specific value, please use `truncation=True` to explicitly truncate examples to max length. Defaulting to 'longest_first' truncation strategy. If you encode pairs of sequences (GLUE-style) with the tokenizer you can select this strategy more precisely by providing a specific strategy to `truncation`.\n",
            "/usr/local/lib/python3.6/dist-packages/transformers/tokenization_utils_base.py:2179: FutureWarning: The `pad_to_max_length` argument is deprecated and will be removed in a future version, use `padding=True` or `padding='longest'` to pad to the longest sequence in the batch, or use `padding='max_length'` to pad to a max length. In this case, you can give a specific length with `max_length` (e.g. `max_length=45`) or leave max_length to None to pad to the maximal input size of the model (e.g. 512 for Bert).\n",
            "  FutureWarning,\n",
            "100%|██████████| 371/371 [00:13<00:00, 27.24it/s]\n"
          ],
          "name": "stderr"
        }
      ]
    },
    {
      "cell_type": "markdown",
      "metadata": {
        "id": "uIlpErEAndsY"
      },
      "source": [
        "Only keeping data we're actually going to use"
      ]
    },
    {
      "cell_type": "markdown",
      "metadata": {
        "id": "K2T72wxYmfyZ"
      },
      "source": [
        "Adding columns to store some useful BERT data"
      ]
    },
    {
      "cell_type": "code",
      "metadata": {
        "id": "GlSLxSD-sidm",
        "colab": {
          "base_uri": "https://localhost:8080/",
          "height": 643
        },
        "outputId": "654af044-be32-45ec-b18a-b21ded548f5f"
      },
      "source": [
        "a = df_bibliovid.copy()\r\n",
        "a['input_ids']=input_ids\r\n",
        "a['attention_mask']=attention_mask\r\n",
        "a['token_type_ids']=token_type_ids\r\n",
        "a.head()"
      ],
      "execution_count": null,
      "outputs": [
        {
          "output_type": "execute_result",
          "data": {
            "text/html": [
              "<div>\n",
              "<style scoped>\n",
              "    .dataframe tbody tr th:only-of-type {\n",
              "        vertical-align: middle;\n",
              "    }\n",
              "\n",
              "    .dataframe tbody tr th {\n",
              "        vertical-align: top;\n",
              "    }\n",
              "\n",
              "    .dataframe thead th {\n",
              "        text-align: right;\n",
              "    }\n",
              "</style>\n",
              "<table border=\"1\" class=\"dataframe\">\n",
              "  <thead>\n",
              "    <tr style=\"text-align: right;\">\n",
              "      <th></th>\n",
              "      <th>id</th>\n",
              "      <th>slug</th>\n",
              "      <th>title</th>\n",
              "      <th>has_other_authors</th>\n",
              "      <th>impact_factor</th>\n",
              "      <th>goals_plain</th>\n",
              "      <th>verbose_date</th>\n",
              "      <th>authors</th>\n",
              "      <th>document_link</th>\n",
              "      <th>specialties</th>\n",
              "      <th>category</th>\n",
              "      <th>journal</th>\n",
              "      <th>link</th>\n",
              "      <th>results</th>\n",
              "      <th>synthesis</th>\n",
              "      <th>strength_of_evidence_details</th>\n",
              "      <th>goals</th>\n",
              "      <th>methods</th>\n",
              "      <th>pubmed_id</th>\n",
              "      <th>doi</th>\n",
              "      <th>abstract</th>\n",
              "      <th>topics</th>\n",
              "      <th>author_list</th>\n",
              "      <th>publication_date</th>\n",
              "      <th>vect_specs</th>\n",
              "      <th>cat_text</th>\n",
              "      <th>len</th>\n",
              "      <th>input_ids</th>\n",
              "      <th>attention_mask</th>\n",
              "      <th>token_type_ids</th>\n",
              "    </tr>\n",
              "  </thead>\n",
              "  <tbody>\n",
              "    <tr>\n",
              "      <th>0</th>\n",
              "      <td>769</td>\n",
              "      <td>body-mass-index-and-risk-for-intubation-or-dea...</td>\n",
              "      <td>Body Mass Index and Risk for Intubation or Dea...</td>\n",
              "      <td>True</td>\n",
              "      <td>{'id': 3, 'name': 'Intermédiaire', 'posts_coun...</td>\n",
              "      <td>- Déterminer si l'obésité est associée à l'int...</td>\n",
              "      <td>31.07.2020</td>\n",
              "      <td>Anderson MR</td>\n",
              "      <td>https://www.acpjournals.org/doi/10.7326/M20-3214</td>\n",
              "      <td>[{'id': 4, 'name': 'Anesthésie-Réanimation'}, ...</td>\n",
              "      <td>{'id': 6, 'name': 'Pronostique', 'icon': 'icon...</td>\n",
              "      <td>{'id': 41, 'name': 'Ann Intern Med'}</td>\n",
              "      <td>https://www.acpjournals.org/doi/10.7326/M20-3214</td>\n",
              "      <td>*Description de l'échantillon: 2112 patients c...</td>\n",
              "      <td>- Environ 2-3% des patients atteints de la COV...</td>\n",
              "      <td>-cohorte pronostique- puissance de l'étude sup...</td>\n",
              "      <td>- Déterminer si l'obésité est associée à l'int...</td>\n",
              "      <td>Cohorte rétrospective portant sur 2466 patient...</td>\n",
              "      <td>32726151</td>\n",
              "      <td>10.7326/M20-3214</td>\n",
              "      <td>Obesity is a risk factor for pneumonia and acu...</td>\n",
              "      <td>[Pronostique, Anesthésie-Réanimation, Infectio...</td>\n",
              "      <td>[{'id': 714, 'name': 'Anderson MR'}]</td>\n",
              "      <td>2020-07-31</td>\n",
              "      <td>[0, 0, 1, 0, 0, 0, 0, 0, 0, 0, 0, 0, 0, 0, 0, ...</td>\n",
              "      <td>Body Mass Index and Risk for Intubation or Dea...</td>\n",
              "      <td>259</td>\n",
              "      <td>[101, 2303, 3742, 5950, 3891, 20014, 19761, 35...</td>\n",
              "      <td>[1, 1, 1, 1, 1, 1, 1, 1, 1, 1, 1, 1, 1, 1, 1, ...</td>\n",
              "      <td>[0, 0, 0, 0, 0, 0, 0, 0, 0, 0, 0, 0, 0, 0, 0, ...</td>\n",
              "    </tr>\n",
              "    <tr>\n",
              "      <th>1</th>\n",
              "      <td>742</td>\n",
              "      <td>an-mrna-vaccine-against-sars-cov-2-preliminary...</td>\n",
              "      <td>An mRNA Vaccine against SARS-CoV-2 - Prelimina...</td>\n",
              "      <td>True</td>\n",
              "      <td>{'id': 3, 'name': 'Intermédiaire', 'posts_coun...</td>\n",
              "      <td>Développement du vaccin accéléré mRNA-1273 Mod...</td>\n",
              "      <td>15.07.2020</td>\n",
              "      <td>Jackson LA</td>\n",
              "      <td>https://www.nejm.org/doi/10.1056/NEJMoa2022483</td>\n",
              "      <td>[{'id': 22, 'name': 'Immunité'}, {'id': 5, 'na...</td>\n",
              "      <td>{'id': 4, 'name': 'Thérapeutique', 'icon': 'ic...</td>\n",
              "      <td>{'id': 22, 'name': 'NEJM'}</td>\n",
              "      <td>https://www.nejm.org/doi/10.1056/NEJMoa2022483</td>\n",
              "      <td>Après la première vaccination, les réponses an...</td>\n",
              "      <td>Le vaccin mRNA-1273 est plutôt bien toléré. De...</td>\n",
              "      <td>Les résultats du rapport ne sont que prélimina...</td>\n",
              "      <td>Développement du vaccin accéléré mRNA-1273 Mod...</td>\n",
              "      <td>Essai de vaccination de Phase 1, ouvert inclua...</td>\n",
              "      <td>32663912</td>\n",
              "      <td>10.1056/NEJMoa2022483</td>\n",
              "      <td>The severe acute respiratory syndrome coronavi...</td>\n",
              "      <td>[Thérapeutique, Immunité, Virologie, Infectiol...</td>\n",
              "      <td>[{'id': 690, 'name': 'Jackson LA'}]</td>\n",
              "      <td>2020-07-15</td>\n",
              "      <td>[0, 1, 0, 0, 0, 0, 0, 0, 0, 0, 0, 0, 0, 0, 0, ...</td>\n",
              "      <td>An mRNA Vaccine against SARS-CoV-2 - Prelimina...</td>\n",
              "      <td>269</td>\n",
              "      <td>[101, 28848, 17404, 18906, 9363, 2615, 2475, 8...</td>\n",
              "      <td>[1, 1, 1, 1, 1, 1, 1, 1, 1, 1, 1, 1, 1, 1, 1, ...</td>\n",
              "      <td>[0, 0, 0, 0, 0, 0, 0, 0, 0, 0, 0, 0, 0, 0, 0, ...</td>\n",
              "    </tr>\n",
              "    <tr>\n",
              "      <th>2</th>\n",
              "      <td>739</td>\n",
              "      <td>pathophysiology-transmission-diagnosis-and-tre...</td>\n",
              "      <td>Pathophysiology, Transmission, Diagnosis, and ...</td>\n",
              "      <td>True</td>\n",
              "      <td>{'id': 2, 'name': 'Faible', 'posts_count': 505...</td>\n",
              "      <td>Etat des lieux bibliographique des connaissanc...</td>\n",
              "      <td>14.07.2020</td>\n",
              "      <td>Joost Wiersinga W</td>\n",
              "      <td>https://jamanetwork.com/journals/jama/fullarti...</td>\n",
              "      <td>[{'id': 7, 'name': 'Transversale'}, {'id': 12,...</td>\n",
              "      <td>{'id': 2, 'name': 'Autres', 'icon': 'icon-other'}</td>\n",
              "      <td>{'id': 183, 'name': 'JAMA Network Open'}</td>\n",
              "      <td>https://jamanetwork.com/journals/jama/fullarti...</td>\n",
              "      <td>La transmission du SARS-CoV-2 est plus favorab...</td>\n",
              "      <td>Actualisation générale des connaissances (rech...</td>\n",
              "      <td>Revue orientée d'études pré-sélectionnées par ...</td>\n",
              "      <td>Etat des lieux bibliographique des connaissanc...</td>\n",
              "      <td>Bases de données indexées (générale et récente...</td>\n",
              "      <td>32648899</td>\n",
              "      <td>10.1001/jama.2020.12839</td>\n",
              "      <td>The coronavirus disease 2019 (COVID-19) pandem...</td>\n",
              "      <td>[Autres, Transversale, Infectiologie]</td>\n",
              "      <td>[{'id': 687, 'name': 'Joost Wiersinga W'}]</td>\n",
              "      <td>2020-07-14</td>\n",
              "      <td>[0, 0, 0, 0, 0, 0, 0, 0, 0, 0, 0, 0, 0, 0, 1, ...</td>\n",
              "      <td>Pathophysiology, Transmission, Diagnosis, and ...</td>\n",
              "      <td>436</td>\n",
              "      <td>[101, 4130, 7361, 10536, 20763, 6483, 6726, 11...</td>\n",
              "      <td>[1, 1, 1, 1, 1, 1, 1, 1, 1, 1, 1, 1, 1, 1, 1, ...</td>\n",
              "      <td>[0, 0, 0, 0, 0, 0, 0, 0, 0, 0, 0, 0, 0, 0, 0, ...</td>\n",
              "    </tr>\n",
              "    <tr>\n",
              "      <th>3</th>\n",
              "      <td>735</td>\n",
              "      <td>introductions-and-early-spread-of-sars-cov-2-i...</td>\n",
              "      <td>Introductions and Early Spread of SARS-CoV-2 i...</td>\n",
              "      <td>True</td>\n",
              "      <td>{'id': 4, 'name': 'Indéterminé', 'posts_count'...</td>\n",
              "      <td>Etudier comment l'épidémie de SARS-Cov-2 a com...</td>\n",
              "      <td>10.07.2020</td>\n",
              "      <td>Gambaro F</td>\n",
              "      <td>https://www.eurosurveillance.org/content/10.28...</td>\n",
              "      <td>[{'id': 7, 'name': 'Transversale'}, {'id': 5, ...</td>\n",
              "      <td>{'id': 5, 'name': 'Epidémiologique', 'icon': '...</td>\n",
              "      <td>{'id': 46, 'name': 'Eurosurveillance'}</td>\n",
              "      <td>https://www.eurosurveillance.org/content/10.28...</td>\n",
              "      <td>Le virus a été introduit plusieurs fois dans l...</td>\n",
              "      <td>Le virus SARS-Cov-2 a été introduit plusieurs ...</td>\n",
              "      <td>Les données de cette étude semblent disponible...</td>\n",
              "      <td>Etudier comment l'épidémie de SARS-Cov-2 a com...</td>\n",
              "      <td>Données. 97 séquences de SARS-Cov-2 recueillie...</td>\n",
              "      <td>32643599\\n32289214\\n32070465\\n32109013\\n321797...</td>\n",
              "      <td>10.2807/1560-7917.ES.2020.25.26.2001200</td>\n",
              "      <td>Following SARS-CoV-2 emergence in China, a spe...</td>\n",
              "      <td>[Epidémiologique, Transversale, Virologie]</td>\n",
              "      <td>[{'id': 628, 'name': 'Gambaro F'}]</td>\n",
              "      <td>2020-07-10</td>\n",
              "      <td>[0, 0, 0, 0, 0, 0, 0, 0, 0, 0, 0, 0, 0, 0, 1, ...</td>\n",
              "      <td>Introductions and Early Spread of SARS-CoV-2 i...</td>\n",
              "      <td>88</td>\n",
              "      <td>[101, 25795, 2220, 3659, 18906, 9363, 2615, 24...</td>\n",
              "      <td>[1, 1, 1, 1, 1, 1, 1, 1, 1, 1, 1, 1, 1, 1, 1, ...</td>\n",
              "      <td>[0, 0, 0, 0, 0, 0, 0, 0, 0, 0, 0, 0, 0, 0, 0, ...</td>\n",
              "    </tr>\n",
              "    <tr>\n",
              "      <th>4</th>\n",
              "      <td>724</td>\n",
              "      <td>how-to-safely-reopen-colleges-and-universities...</td>\n",
              "      <td>How to Safely Reopen Colleges and Universities...</td>\n",
              "      <td>True</td>\n",
              "      <td>{'id': 2, 'name': 'Faible', 'posts_count': 505...</td>\n",
              "      <td>Décrire l'expérience des universités de Taïwan...</td>\n",
              "      <td>03.07.2020</td>\n",
              "      <td>Cheng SY</td>\n",
              "      <td>https://www.acpjournals.org/doi/10.7326/M20-2927</td>\n",
              "      <td>[{'id': 21, 'name': 'Confinement/Déconfinement...</td>\n",
              "      <td>{'id': 5, 'name': 'Epidémiologique', 'icon': '...</td>\n",
              "      <td>{'id': 41, 'name': 'Ann Intern Med'}</td>\n",
              "      <td>https://www.acpjournals.org/doi/10.7326/M20-2927</td>\n",
              "      <td>A Taïwan jusqu'au 18 juin 2020 seuls 7 cas con...</td>\n",
              "      <td>Les universités de Taïwan ont adopté des mesur...</td>\n",
              "      <td>- retour d'expérience d'une seule université T...</td>\n",
              "      <td>Décrire l'expérience des universités de Taïwan...</td>\n",
              "      <td>Retour d'expérience de Taïwan sur la gestion d...</td>\n",
              "      <td>32614638</td>\n",
              "      <td>10.7326/M20-2927</td>\n",
              "      <td>Reopening colleges and universities during the...</td>\n",
              "      <td>[Epidémiologique, Confinement/Déconfinement, I...</td>\n",
              "      <td>[{'id': 675, 'name': 'Cheng SY'}]</td>\n",
              "      <td>2020-07-03</td>\n",
              "      <td>[0, 0, 0, 0, 0, 0, 0, 0, 0, 0, 1, 0, 0, 0, 0, ...</td>\n",
              "      <td>How to Safely Reopen Colleges and Universities...</td>\n",
              "      <td>239</td>\n",
              "      <td>[101, 9689, 2128, 26915, 6667, 5534, 2522, 172...</td>\n",
              "      <td>[1, 1, 1, 1, 1, 1, 1, 1, 1, 1, 1, 1, 1, 1, 1, ...</td>\n",
              "      <td>[0, 0, 0, 0, 0, 0, 0, 0, 0, 0, 0, 0, 0, 0, 0, ...</td>\n",
              "    </tr>\n",
              "  </tbody>\n",
              "</table>\n",
              "</div>"
            ],
            "text/plain": [
              "    id  ...                                     token_type_ids\n",
              "0  769  ...  [0, 0, 0, 0, 0, 0, 0, 0, 0, 0, 0, 0, 0, 0, 0, ...\n",
              "1  742  ...  [0, 0, 0, 0, 0, 0, 0, 0, 0, 0, 0, 0, 0, 0, 0, ...\n",
              "2  739  ...  [0, 0, 0, 0, 0, 0, 0, 0, 0, 0, 0, 0, 0, 0, 0, ...\n",
              "3  735  ...  [0, 0, 0, 0, 0, 0, 0, 0, 0, 0, 0, 0, 0, 0, 0, ...\n",
              "4  724  ...  [0, 0, 0, 0, 0, 0, 0, 0, 0, 0, 0, 0, 0, 0, 0, ...\n",
              "\n",
              "[5 rows x 30 columns]"
            ]
          },
          "metadata": {
            "tags": []
          },
          "execution_count": 39
        }
      ]
    },
    {
      "cell_type": "markdown",
      "metadata": {
        "id": "S_-dWPO0m4VD"
      },
      "source": [
        "Saving the preproccessed data"
      ]
    },
    {
      "cell_type": "code",
      "metadata": {
        "id": "uA4xLo4CsbC9"
      },
      "source": [
        "import pickle\r\n",
        "\r\n",
        "with open(DATA_FOLDER+'clean_df_bibliovid_pretreated.pkl', 'wb') as f:\r\n",
        "  pickle.dump(a, f)"
      ],
      "execution_count": null,
      "outputs": []
    }
  ]
}